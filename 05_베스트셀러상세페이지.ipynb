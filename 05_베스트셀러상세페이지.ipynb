{
 "cells": [
  {
   "cell_type": "markdown",
   "id": "77ef9d22",
   "metadata": {},
   "source": [
    "# 인터파크 베스트셀러 크롤링"
   ]
  },
  {
   "cell_type": "code",
   "execution_count": 1,
   "id": "8fadba13",
   "metadata": {},
   "outputs": [],
   "source": [
    "import requests\n",
    "import re\n",
    "import pandas as pd\n",
    "from bs4 import BeautifulSoup"
   ]
  },
  {
   "cell_type": "markdown",
   "id": "b47f9b29",
   "metadata": {},
   "source": [
    "# 1.데이터가져오기"
   ]
  },
  {
   "cell_type": "code",
   "execution_count": null,
   "id": "c19594a7",
   "metadata": {},
   "outputs": [],
   "source": [
    "# 순위, 제목, 저자 , 역자(있으면 가져오고 없으면 '-'), 출판사, 쪽수, 발행일, 가격 "
   ]
  },
  {
   "cell_type": "code",
   "execution_count": 2,
   "id": "1e7a3e9e",
   "metadata": {},
   "outputs": [],
   "source": [
    "# http://book.interpark.com/display/collectlist.do?_method=BestsellerHourNew201605&bestTp=1&dispNo=028&smid1=s_menu&smid2=bestseller\n",
    "site = 'https://book.interpark.com'\n",
    "url = site + '/display/collectlist.do?_method=BestsellerHourNew201605&bestTp=1&dispNo=028&smid1=s_menu&smid2=bestseller'\n",
    "res = requests.get(url)"
   ]
  },
  {
   "cell_type": "code",
   "execution_count": 3,
   "id": "378ee132",
   "metadata": {},
   "outputs": [],
   "source": [
    "soup = BeautifulSoup(res.text, 'html.parser')"
   ]
  },
  {
   "cell_type": "markdown",
   "id": "ad7dcbb1",
   "metadata": {},
   "source": [
    "# 원하는 데이터 찾기"
   ]
  },
  {
   "cell_type": "code",
   "execution_count": 4,
   "id": "2daeb092",
   "metadata": {},
   "outputs": [
    {
     "data": {
      "text/plain": [
       "15"
      ]
     },
     "execution_count": 4,
     "metadata": {},
     "output_type": "execute_result"
    }
   ],
   "source": [
    "lis = soup.select('.rankBestContentList > ol > li')\n",
    "len(lis)"
   ]
  },
  {
   "cell_type": "code",
   "execution_count": 5,
   "id": "8429d407",
   "metadata": {},
   "outputs": [],
   "source": [
    "li = lis[1]"
   ]
  },
  {
   "cell_type": "code",
   "execution_count": 6,
   "id": "d46af667",
   "metadata": {},
   "outputs": [
    {
     "data": {
      "text/plain": [
       "'/product/BookDisplay.do?_method=detail&sc.shopNo=0000400000&sc.prdNo=356690382&sc.saNo=003003001&bid1=Best_zone&bid2=LiveRanking&bid3=PRD&bid4=001'"
      ]
     },
     "execution_count": 6,
     "metadata": {},
     "output_type": "execute_result"
    }
   ],
   "source": [
    "href = li.select_one(\".coverImage\").find('a')['href']\n",
    "href"
   ]
  },
  {
   "cell_type": "code",
   "execution_count": 7,
   "id": "1f019953",
   "metadata": {},
   "outputs": [
    {
     "data": {
      "text/plain": [
       "'메리골드 마음 세탁소'"
      ]
     },
     "execution_count": 7,
     "metadata": {},
     "output_type": "execute_result"
    }
   ],
   "source": [
    "#책제목 \n",
    "title = li.select_one('.itemName').get_text().strip()\n",
    "title"
   ]
  },
  {
   "cell_type": "code",
   "execution_count": 8,
   "id": "42ee664f",
   "metadata": {},
   "outputs": [
    {
     "data": {
      "text/plain": [
       "'북로망스'"
      ]
     },
     "execution_count": 8,
     "metadata": {},
     "output_type": "execute_result"
    }
   ],
   "source": [
    "#출판사 \n",
    "compay = li.select_one('.company').get_text().strip()\n",
    "compay"
   ]
  },
  {
   "cell_type": "code",
   "execution_count": 9,
   "id": "531dd8b1",
   "metadata": {},
   "outputs": [
    {
     "data": {
      "text/plain": [
       "13500"
      ]
     },
     "execution_count": 9,
     "metadata": {},
     "output_type": "execute_result"
    }
   ],
   "source": [
    "#가격\n",
    "price = li.select_one('.price > em').get_text()\n",
    "price = int(price.replace(',', ''))\n",
    "price"
   ]
  },
  {
   "cell_type": "code",
   "execution_count": 10,
   "id": "9e066de5",
   "metadata": {},
   "outputs": [
    {
     "data": {
      "text/plain": [
       "2"
      ]
     },
     "execution_count": 10,
     "metadata": {},
     "output_type": "execute_result"
    }
   ],
   "source": [
    "# 1~9 순위\n",
    "# li.select_one('.rankBtn_ctrl')\n",
    "# li.select_one('.rankBtn_ctrl')['class'][1][-1]\n",
    "rank = int(li.select_one('.rankBtn_ctrl')['class'][1][-1])\n",
    "rank"
   ]
  },
  {
   "cell_type": "code",
   "execution_count": 11,
   "id": "ec788e3b",
   "metadata": {},
   "outputs": [],
   "source": [
    "# 10~15순위\n",
    "element = '<div class=\"rankNumber digit2\"> <span class=\"rankBtn_ctrl rkNum_M01 \"></span><span class=\"rankBtn_ctrl rkNum_M04 \"></span> </div>'\n",
    "mini_soup = BeautifulSoup(element, 'html.parser')"
   ]
  },
  {
   "cell_type": "code",
   "execution_count": 12,
   "id": "d701b26d",
   "metadata": {},
   "outputs": [
    {
     "data": {
      "text/plain": [
       "[<span class=\"rankBtn_ctrl rkNum_M01\"></span>,\n",
       " <span class=\"rankBtn_ctrl rkNum_M04\"></span>]"
      ]
     },
     "execution_count": 12,
     "metadata": {},
     "output_type": "execute_result"
    }
   ],
   "source": [
    "mini_soup.select('.rankBtn_ctrl')"
   ]
  },
  {
   "cell_type": "code",
   "execution_count": 13,
   "id": "29780da7",
   "metadata": {},
   "outputs": [],
   "source": [
    "rank_data = li.select('.rankBtn_ctrl')\n",
    "if len(li.select('.rankBtn_ctrl')) == 1:\n",
    "    rank = int(li.select_one('.rankBtn_ctrl')['class'][1][-1])\n",
    "else: \n",
    "    rank = rank_data[0]['class'][1][-1] + rank_data[1]['class'][1][-1]\n",
    "    rank = int(rank)"
   ]
  },
  {
   "cell_type": "markdown",
   "id": "c00ce8b1",
   "metadata": {},
   "source": [
    "# sub page"
   ]
  },
  {
   "cell_type": "code",
   "execution_count": 14,
   "id": "c5980314",
   "metadata": {},
   "outputs": [],
   "source": [
    "url = site + href\n",
    "res = requests.get(url)\n",
    "sub_soup = BeautifulSoup(res.text, 'html.parser')"
   ]
  },
  {
   "cell_type": "code",
   "execution_count": 15,
   "id": "6fd78180",
   "metadata": {},
   "outputs": [
    {
     "data": {
      "text/plain": [
       "5"
      ]
     },
     "execution_count": 15,
     "metadata": {},
     "output_type": "execute_result"
    }
   ],
   "source": [
    "sub_lis = sub_soup.select(\".bInfo_txt > li\")\n",
    "len(sub_lis)"
   ]
  },
  {
   "cell_type": "code",
   "execution_count": 16,
   "id": "4584adeb",
   "metadata": {},
   "outputs": [
    {
     "data": {
      "text/plain": [
       "[<li>저 : <a href=\"#\" onclick='fn_wiseLogRedirect(\"infor\",\"basic_inform\",\"writer\",\"http://bsearch.interpark.com/dsearch/book.jsp?sch=all&amp;sc.shopNo=&amp;bookblockname=s_main&amp;booklinkname=s_main&amp;query=윤정은\",\"_blank\");return false;'>윤정은</a></li>,\n",
       " <li>출판사 : <a href=\"#\" id=\"hdelvMafcEntrNm\" onclick='fn_wiseLogRedirect(\"infor\",\"basic_inform\",\"publisher\",\"http://bsearch.interpark.com/dsearch/book.jsp?sch=all&amp;query=북로망스\",\"_blank\");return false;'>북로망스</a></li>,\n",
       " <li>발행 : 2023년 03월 06일</li>,\n",
       " <li>쪽수 : 272</li>,\n",
       " <li>ISBN : 9791191891287</li>]"
      ]
     },
     "execution_count": 16,
     "metadata": {},
     "output_type": "execute_result"
    }
   ],
   "source": [
    "sub_lis"
   ]
  },
  {
   "cell_type": "code",
   "execution_count": 17,
   "id": "7f95405b",
   "metadata": {},
   "outputs": [
    {
     "name": "stdout",
     "output_type": "stream",
     "text": [
      "저 : 윤정은\n",
      "출판사 : 북로망스\n",
      "발행 : 2023년 03월 06일\n",
      "쪽수 : 272\n",
      "ISBN : 9791191891287\n"
     ]
    }
   ],
   "source": [
    "for li in sub_lis:\n",
    "    print(li.get_text())"
   ]
  },
  {
   "cell_type": "code",
   "execution_count": 21,
   "id": "04c84769",
   "metadata": {},
   "outputs": [],
   "source": [
    "author = '-'\n",
    "trans = '-'\n",
    "for li in sub_lis:\n",
    "    text = li.get_text().strip()\n",
    "#     print(text)\n",
    "    if '발행 :' in text:\n",
    "        date = text.split(':')[1].strip()\n",
    "        date = re.sub('[^0-9]','', date)\n",
    "        #print(date)\n",
    "    elif \"쪽수 : \" in text:\n",
    "        page = int(text.split(':')[1].strip())\n",
    "    elif \"역 : \" in text:\n",
    "        trans = text.split(':')[1].strip()\n",
    "    elif \"저 : \" in text:\n",
    "        author = text.split(':')[1].strip()"
   ]
  },
  {
   "cell_type": "code",
   "execution_count": 22,
   "id": "665e1a66",
   "metadata": {},
   "outputs": [
    {
     "name": "stdout",
     "output_type": "stream",
     "text": [
      "20230306 272 - 윤정은\n"
     ]
    }
   ],
   "source": [
    "print(date, page, trans, author)"
   ]
  },
  {
   "cell_type": "markdown",
   "id": "3b006723",
   "metadata": {},
   "source": [
    "# 페이지에 있는 모든 데이터 추출(tqdm)"
   ]
  },
  {
   "cell_type": "code",
   "execution_count": 24,
   "id": "5206b039",
   "metadata": {},
   "outputs": [],
   "source": [
    "from tqdm.notebook import tqdm"
   ]
  },
  {
   "cell_type": "code",
   "execution_count": 25,
   "id": "e04e2139",
   "metadata": {},
   "outputs": [
    {
     "data": {
      "application/vnd.jupyter.widget-view+json": {
       "model_id": "fcfd839381d04763a427011c75e383b8",
       "version_major": 2,
       "version_minor": 0
      },
      "text/plain": [
       "  0%|          | 0/15 [00:00<?, ?it/s]"
      ]
     },
     "metadata": {},
     "output_type": "display_data"
    }
   ],
   "source": [
    "lines = []\n",
    "for li in tqdm(lis):\n",
    "    href = li.select_one(\".coverImage\").find('a')['href']\n",
    "    title = li.select_one('.itemName').get_text().strip()\n",
    "    company = li.select_one('.company').get_text().strip()\n",
    "    price = li.select_one('.price > em').get_text()\n",
    "    price = int(price.replace(',', ''))\n",
    "    rank_data = li.select('.rankBtn_ctrl')\n",
    "    if len(li.select('.rankBtn_ctrl')) == 1:\n",
    "        rank = int(li.select_one('.rankBtn_ctrl')['class'][1][-1])\n",
    "    else: \n",
    "        rank = rank_data[0]['class'][1][-1] + rank_data[1]['class'][1][-1]\n",
    "        rank = int(rank)\n",
    "    url = site + href\n",
    "    res = requests.get(url)\n",
    "    sub_soup = BeautifulSoup(res.text, 'html.parser')\n",
    "    sub_lis = sub_soup.select(\".bInfo_txt > li\")\n",
    "    author = '-'\n",
    "    trans = '-'\n",
    "    for li in sub_lis:\n",
    "        text = li.get_text().strip()\n",
    "        if '발행 :' in text:\n",
    "            date = text.split(':')[1].strip()\n",
    "            date = re.sub('[^0-9]','', date)\n",
    "        elif \"쪽수 : \" in text:\n",
    "            page = int(text.split(':')[1].strip())\n",
    "        elif \"역 : \" in text:\n",
    "            trans = text.split(':')[1].strip()\n",
    "        elif \"저 : \" in text:\n",
    "            author = text.split(':')[1].strip()\n",
    "    lines.append([rank, title, author, trans, company, page, date, price])"
   ]
  },
  {
   "cell_type": "code",
   "execution_count": 26,
   "id": "67bfdd96",
   "metadata": {},
   "outputs": [
    {
     "data": {
      "text/html": [
       "<div>\n",
       "<style scoped>\n",
       "    .dataframe tbody tr th:only-of-type {\n",
       "        vertical-align: middle;\n",
       "    }\n",
       "\n",
       "    .dataframe tbody tr th {\n",
       "        vertical-align: top;\n",
       "    }\n",
       "\n",
       "    .dataframe thead th {\n",
       "        text-align: right;\n",
       "    }\n",
       "</style>\n",
       "<table border=\"1\" class=\"dataframe\">\n",
       "  <thead>\n",
       "    <tr style=\"text-align: right;\">\n",
       "      <th></th>\n",
       "      <th>순위</th>\n",
       "      <th>제목</th>\n",
       "      <th>저자</th>\n",
       "      <th>역자</th>\n",
       "      <th>출판사</th>\n",
       "      <th>쪽수</th>\n",
       "      <th>발행일</th>\n",
       "      <th>가격</th>\n",
       "    </tr>\n",
       "  </thead>\n",
       "  <tbody>\n",
       "    <tr>\n",
       "      <th>0</th>\n",
       "      <td>1</td>\n",
       "      <td>세이노의 가르침</td>\n",
       "      <td>세이노</td>\n",
       "      <td>-</td>\n",
       "      <td>데이원</td>\n",
       "      <td>0</td>\n",
       "      <td>20230302</td>\n",
       "      <td>6480</td>\n",
       "    </tr>\n",
       "    <tr>\n",
       "      <th>1</th>\n",
       "      <td>2</td>\n",
       "      <td>메리골드 마음 세탁소</td>\n",
       "      <td>윤정은</td>\n",
       "      <td>-</td>\n",
       "      <td>북로망스</td>\n",
       "      <td>272</td>\n",
       "      <td>20230306</td>\n",
       "      <td>13500</td>\n",
       "    </tr>\n",
       "    <tr>\n",
       "      <th>2</th>\n",
       "      <td>3</td>\n",
       "      <td>장하준의 경제학 레시피</td>\n",
       "      <td>장하준</td>\n",
       "      <td>-</td>\n",
       "      <td>부키</td>\n",
       "      <td>376</td>\n",
       "      <td>20230330</td>\n",
       "      <td>16200</td>\n",
       "    </tr>\n",
       "    <tr>\n",
       "      <th>3</th>\n",
       "      <td>4</td>\n",
       "      <td>이미 늦었다고 생각하는 당신을 위한 김미경의 마흔 수업</td>\n",
       "      <td>김미경</td>\n",
       "      <td>-</td>\n",
       "      <td>어웨이크북스</td>\n",
       "      <td>300</td>\n",
       "      <td>20230215</td>\n",
       "      <td>16200</td>\n",
       "    </tr>\n",
       "    <tr>\n",
       "      <th>4</th>\n",
       "      <td>4</td>\n",
       "      <td>영어책 한 권 외워봤니?</td>\n",
       "      <td>-</td>\n",
       "      <td>-</td>\n",
       "      <td>위즈덤하우스</td>\n",
       "      <td>0</td>\n",
       "      <td>20170111</td>\n",
       "      <td>12600</td>\n",
       "    </tr>\n",
       "    <tr>\n",
       "      <th>5</th>\n",
       "      <td>6</td>\n",
       "      <td>괜찮아, 그 길 끝에 행복이 기다릴 거야</td>\n",
       "      <td>손미나</td>\n",
       "      <td>-</td>\n",
       "      <td>코알라컴퍼니</td>\n",
       "      <td>296</td>\n",
       "      <td>20230405</td>\n",
       "      <td>17100</td>\n",
       "    </tr>\n",
       "    <tr>\n",
       "      <th>6</th>\n",
       "      <td>7</td>\n",
       "      <td>한국형 가치투자</td>\n",
       "      <td>김민국, 최준철</td>\n",
       "      <td>-</td>\n",
       "      <td>이콘</td>\n",
       "      <td>296</td>\n",
       "      <td>20230315</td>\n",
       "      <td>16200</td>\n",
       "    </tr>\n",
       "    <tr>\n",
       "      <th>7</th>\n",
       "      <td>7</td>\n",
       "      <td>K 배터리 레볼루션</td>\n",
       "      <td>박순혁</td>\n",
       "      <td>-</td>\n",
       "      <td>지와인</td>\n",
       "      <td>0</td>\n",
       "      <td>20230220</td>\n",
       "      <td>17100</td>\n",
       "    </tr>\n",
       "    <tr>\n",
       "      <th>8</th>\n",
       "      <td>7</td>\n",
       "      <td>불편한 편의점 2(단풍 에디션)</td>\n",
       "      <td>김호연</td>\n",
       "      <td>-</td>\n",
       "      <td>나무옆의자</td>\n",
       "      <td>320</td>\n",
       "      <td>20220810</td>\n",
       "      <td>12600</td>\n",
       "    </tr>\n",
       "    <tr>\n",
       "      <th>9</th>\n",
       "      <td>10</td>\n",
       "      <td>브라질에 비가 내리면 스타벅스 주식을 사라</td>\n",
       "      <td>피터 나바로</td>\n",
       "      <td>이창식</td>\n",
       "      <td>에프엔미디어</td>\n",
       "      <td>0</td>\n",
       "      <td>20220425</td>\n",
       "      <td>16200</td>\n",
       "    </tr>\n",
       "    <tr>\n",
       "      <th>10</th>\n",
       "      <td>11</td>\n",
       "      <td>살 때, 팔 때, 벌 때</td>\n",
       "      <td>강영현</td>\n",
       "      <td>-</td>\n",
       "      <td>21세기북스</td>\n",
       "      <td>268</td>\n",
       "      <td>20230228</td>\n",
       "      <td>19800</td>\n",
       "    </tr>\n",
       "    <tr>\n",
       "      <th>11</th>\n",
       "      <td>11</td>\n",
       "      <td>내면소통</td>\n",
       "      <td>김주환</td>\n",
       "      <td>-</td>\n",
       "      <td>인플루엔셜</td>\n",
       "      <td>768</td>\n",
       "      <td>20230227</td>\n",
       "      <td>29700</td>\n",
       "    </tr>\n",
       "    <tr>\n",
       "      <th>12</th>\n",
       "      <td>13</td>\n",
       "      <td>사장학개론</td>\n",
       "      <td>김승호</td>\n",
       "      <td>-</td>\n",
       "      <td>스노우폭스북스</td>\n",
       "      <td>438</td>\n",
       "      <td>20230419</td>\n",
       "      <td>22500</td>\n",
       "    </tr>\n",
       "    <tr>\n",
       "      <th>13</th>\n",
       "      <td>14</td>\n",
       "      <td>2023 제14회 젊은작가상 수상작품집</td>\n",
       "      <td>이미상, 김멜라, 성혜령, 이서수, 정선임, 함윤이</td>\n",
       "      <td>-</td>\n",
       "      <td>문학동네</td>\n",
       "      <td>364</td>\n",
       "      <td>20230405</td>\n",
       "      <td>6930</td>\n",
       "    </tr>\n",
       "    <tr>\n",
       "      <th>14</th>\n",
       "      <td>14</td>\n",
       "      <td>표류하는 세계</td>\n",
       "      <td>스콧 갤러웨이</td>\n",
       "      <td>-</td>\n",
       "      <td>리더스북</td>\n",
       "      <td>324</td>\n",
       "      <td>20230401</td>\n",
       "      <td>17820</td>\n",
       "    </tr>\n",
       "  </tbody>\n",
       "</table>\n",
       "</div>"
      ],
      "text/plain": [
       "    순위                              제목                            저자   역자  \\\n",
       "0    1                        세이노의 가르침                           세이노    -   \n",
       "1    2                     메리골드 마음 세탁소                           윤정은    -   \n",
       "2    3                    장하준의 경제학 레시피                           장하준    -   \n",
       "3    4  이미 늦었다고 생각하는 당신을 위한 김미경의 마흔 수업                           김미경    -   \n",
       "4    4                   영어책 한 권 외워봤니?                             -    -   \n",
       "5    6          괜찮아, 그 길 끝에 행복이 기다릴 거야                           손미나    -   \n",
       "6    7                        한국형 가치투자                      김민국, 최준철    -   \n",
       "7    7                      K 배터리 레볼루션                           박순혁    -   \n",
       "8    7               불편한 편의점 2(단풍 에디션)                           김호연    -   \n",
       "9   10         브라질에 비가 내리면 스타벅스 주식을 사라                        피터 나바로  이창식   \n",
       "10  11                   살 때, 팔 때, 벌 때                           강영현    -   \n",
       "11  11                            내면소통                           김주환    -   \n",
       "12  13                           사장학개론                           김승호    -   \n",
       "13  14           2023 제14회 젊은작가상 수상작품집  이미상, 김멜라, 성혜령, 이서수, 정선임, 함윤이    -   \n",
       "14  14                         표류하는 세계                       스콧 갤러웨이    -   \n",
       "\n",
       "        출판사   쪽수       발행일     가격  \n",
       "0       데이원    0  20230302   6480  \n",
       "1      북로망스  272  20230306  13500  \n",
       "2        부키  376  20230330  16200  \n",
       "3    어웨이크북스  300  20230215  16200  \n",
       "4    위즈덤하우스    0  20170111  12600  \n",
       "5    코알라컴퍼니  296  20230405  17100  \n",
       "6        이콘  296  20230315  16200  \n",
       "7       지와인    0  20230220  17100  \n",
       "8     나무옆의자  320  20220810  12600  \n",
       "9    에프엔미디어    0  20220425  16200  \n",
       "10   21세기북스  268  20230228  19800  \n",
       "11    인플루엔셜  768  20230227  29700  \n",
       "12  스노우폭스북스  438  20230419  22500  \n",
       "13     문학동네  364  20230405   6930  \n",
       "14     리더스북  324  20230401  17820  "
      ]
     },
     "execution_count": 26,
     "metadata": {},
     "output_type": "execute_result"
    }
   ],
   "source": [
    "df = pd.DataFrame(lines, \n",
    "    columns=['순위', '제목', '저자', '역자', '출판사', '쪽수', '발행일', '가격'])\n",
    "df"
   ]
  },
  {
   "cell_type": "code",
   "execution_count": 27,
   "id": "2d008dca",
   "metadata": {},
   "outputs": [],
   "source": [
    "df.to_csv('230418인터파크베스트셀러.csv', index=False)"
   ]
  },
  {
   "cell_type": "code",
   "execution_count": null,
   "id": "bb873c74",
   "metadata": {},
   "outputs": [],
   "source": []
  }
 ],
 "metadata": {
  "kernelspec": {
   "display_name": "Python 3 (ipykernel)",
   "language": "python",
   "name": "python3"
  },
  "language_info": {
   "codemirror_mode": {
    "name": "ipython",
    "version": 3
   },
   "file_extension": ".py",
   "mimetype": "text/x-python",
   "name": "python",
   "nbconvert_exporter": "python",
   "pygments_lexer": "ipython3",
   "version": "3.8.7"
  }
 },
 "nbformat": 4,
 "nbformat_minor": 5
}
